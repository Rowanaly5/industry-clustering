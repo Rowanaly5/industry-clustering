{
 "cells": [
  {
   "cell_type": "code",
   "execution_count": 1,
   "metadata": {},
   "outputs": [],
   "source": [
    "\n",
    "#basic imports\n",
    "import pandas as pd\n",
    "import matplotlib.pyplot as plt\n",
    "import numpy as np\n",
    "import seaborn as sns\n",
    "\n",
    "#NLP imports\n",
    "import nltk\n",
    "import gensim\n",
    "from gensim.utils import simple_preprocess\n",
    "from gensim.parsing.preprocessing import STOPWORDS\n",
    "from nltk.stem import WordNetLemmatizer, SnowballStemmer\n",
    "from nltk.corpus import stopwords\n",
    "from nltk.stem import PorterStemmer\n",
    "from nltk.stem.porter import *\n",
    "import re\n",
    "\n",
    "#Classification imports\n",
    "from sklearn.model_selection import train_test_split\n",
    "from sklearn.utils.class_weight import compute_sample_weight\n",
    "from sklearn.feature_extraction.text import CountVectorizer, TfidfVectorizer\n",
    "from sklearn.metrics import accuracy_score, confusion_matrix\n",
    "from sklearn.feature_extraction.text import TfidfTransformer\n",
    "from sklearn.feature_extraction.text import TfidfVectorizer\n",
    "from sklearn.linear_model import LogisticRegression"
   ]
  },
  {
   "cell_type": "markdown",
   "metadata": {},
   "source": [
    "# LOADING DATA"
   ]
  },
  {
   "cell_type": "code",
   "execution_count": 2,
   "metadata": {},
   "outputs": [],
   "source": [
    "df =  pd.read_csv('C:/Users/rowan/Desktop/nlp-task/data4.csv',header=0)\n",
    "\n",
    "df2 = df"
   ]
  },
  {
   "cell_type": "markdown",
   "metadata": {},
   "source": [
    "# EXPLORING DATA"
   ]
  },
  {
   "cell_type": "code",
   "execution_count": 3,
   "metadata": {},
   "outputs": [
    {
     "data": {
      "text/html": [
       "<div>\n",
       "<style scoped>\n",
       "    .dataframe tbody tr th:only-of-type {\n",
       "        vertical-align: middle;\n",
       "    }\n",
       "\n",
       "    .dataframe tbody tr th {\n",
       "        vertical-align: top;\n",
       "    }\n",
       "\n",
       "    .dataframe thead th {\n",
       "        text-align: right;\n",
       "    }\n",
       "</style>\n",
       "<table border=\"1\" class=\"dataframe\">\n",
       "  <thead>\n",
       "    <tr style=\"text-align: right;\">\n",
       "      <th></th>\n",
       "      <th>job title</th>\n",
       "      <th>industry</th>\n",
       "    </tr>\n",
       "  </thead>\n",
       "  <tbody>\n",
       "    <tr>\n",
       "      <th>0</th>\n",
       "      <td>technical support and helpdesk supervisor - co...</td>\n",
       "      <td>IT</td>\n",
       "    </tr>\n",
       "    <tr>\n",
       "      <th>1</th>\n",
       "      <td>senior technical support engineer</td>\n",
       "      <td>IT</td>\n",
       "    </tr>\n",
       "    <tr>\n",
       "      <th>2</th>\n",
       "      <td>head of it services</td>\n",
       "      <td>IT</td>\n",
       "    </tr>\n",
       "    <tr>\n",
       "      <th>3</th>\n",
       "      <td>js front end engineer</td>\n",
       "      <td>IT</td>\n",
       "    </tr>\n",
       "    <tr>\n",
       "      <th>4</th>\n",
       "      <td>network and telephony controller</td>\n",
       "      <td>IT</td>\n",
       "    </tr>\n",
       "  </tbody>\n",
       "</table>\n",
       "</div>"
      ],
      "text/plain": [
       "                                           job title industry\n",
       "0  technical support and helpdesk supervisor - co...       IT\n",
       "1                  senior technical support engineer       IT\n",
       "2                                head of it services       IT\n",
       "3                              js front end engineer       IT\n",
       "4                   network and telephony controller       IT"
      ]
     },
     "execution_count": 3,
     "metadata": {},
     "output_type": "execute_result"
    }
   ],
   "source": [
    "df.head()"
   ]
  },
  {
   "cell_type": "code",
   "execution_count": 4,
   "metadata": {},
   "outputs": [
    {
     "data": {
      "text/plain": [
       "(8586, 2)"
      ]
     },
     "execution_count": 4,
     "metadata": {},
     "output_type": "execute_result"
    }
   ],
   "source": [
    "df.shape"
   ]
  },
  {
   "cell_type": "code",
   "execution_count": 5,
   "metadata": {},
   "outputs": [
    {
     "data": {
      "text/html": [
       "<div>\n",
       "<style scoped>\n",
       "    .dataframe tbody tr th:only-of-type {\n",
       "        vertical-align: middle;\n",
       "    }\n",
       "\n",
       "    .dataframe tbody tr th {\n",
       "        vertical-align: top;\n",
       "    }\n",
       "\n",
       "    .dataframe thead th {\n",
       "        text-align: right;\n",
       "    }\n",
       "</style>\n",
       "<table border=\"1\" class=\"dataframe\">\n",
       "  <thead>\n",
       "    <tr style=\"text-align: right;\">\n",
       "      <th></th>\n",
       "      <th>count</th>\n",
       "      <th>unique</th>\n",
       "      <th>top</th>\n",
       "      <th>freq</th>\n",
       "    </tr>\n",
       "  </thead>\n",
       "  <tbody>\n",
       "    <tr>\n",
       "      <th>job title</th>\n",
       "      <td>8586</td>\n",
       "      <td>3890</td>\n",
       "      <td>marketing executive</td>\n",
       "      <td>91</td>\n",
       "    </tr>\n",
       "    <tr>\n",
       "      <th>industry</th>\n",
       "      <td>8586</td>\n",
       "      <td>4</td>\n",
       "      <td>IT</td>\n",
       "      <td>4746</td>\n",
       "    </tr>\n",
       "  </tbody>\n",
       "</table>\n",
       "</div>"
      ],
      "text/plain": [
       "          count unique                  top  freq\n",
       "job title  8586   3890  marketing executive    91\n",
       "industry   8586      4                   IT  4746"
      ]
     },
     "execution_count": 5,
     "metadata": {},
     "output_type": "execute_result"
    }
   ],
   "source": [
    "df.describe().T\n"
   ]
  },
  {
   "cell_type": "code",
   "execution_count": 6,
   "metadata": {},
   "outputs": [
    {
     "data": {
      "text/plain": [
       "job title    object\n",
       "industry     object\n",
       "dtype: object"
      ]
     },
     "execution_count": 6,
     "metadata": {},
     "output_type": "execute_result"
    }
   ],
   "source": [
    "df.dtypes\n"
   ]
  },
  {
   "cell_type": "code",
   "execution_count": 7,
   "metadata": {},
   "outputs": [],
   "source": [
    "#df = df.rename(columns = {'job title': 'jobtitle'}, inplace = False)\n"
   ]
  },
  {
   "cell_type": "code",
   "execution_count": 8,
   "metadata": {},
   "outputs": [
    {
     "data": {
      "text/plain": [
       "job title    0\n",
       "industry     0\n",
       "dtype: int64"
      ]
     },
     "execution_count": 8,
     "metadata": {},
     "output_type": "execute_result"
    }
   ],
   "source": [
    "df.isna().sum()\n"
   ]
  },
  {
   "cell_type": "code",
   "execution_count": 9,
   "metadata": {},
   "outputs": [
    {
     "data": {
      "text/plain": [
       "IT             4746\n",
       "Marketing      2031\n",
       "Education      1435\n",
       "Accountancy     374\n",
       "Name: industry, dtype: int64"
      ]
     },
     "execution_count": 9,
     "metadata": {},
     "output_type": "execute_result"
    }
   ],
   "source": [
    "df.industry.value_counts()\n"
   ]
  },
  {
   "cell_type": "code",
   "execution_count": 10,
   "metadata": {},
   "outputs": [
    {
     "data": {
      "text/plain": [
       "marketing executive                                           91\n",
       "php developer                                                 54\n",
       "trainee network technician                                    53\n",
       "software developer                                            53\n",
       "marketing manager                                             49\n",
       "                                                              ..\n",
       "digital designer - ux/ui                                       1\n",
       "digital marketing executive - restaurant chain                 1\n",
       "marketing and creative manager - salary circa £50k - poole     1\n",
       "data analyst, sql, ecommerce, central london - £45k            1\n",
       "creative copywriter (arabic/english)                           1\n",
       "Name: job title, Length: 3890, dtype: int64"
      ]
     },
     "execution_count": 10,
     "metadata": {},
     "output_type": "execute_result"
    }
   ],
   "source": [
    "df[\"job title\"].value_counts()\n"
   ]
  },
  {
   "cell_type": "code",
   "execution_count": 11,
   "metadata": {},
   "outputs": [
    {
     "name": "stdout",
     "output_type": "stream",
     "text": [
      "<class 'pandas.core.frame.DataFrame'>\n",
      "RangeIndex: 8586 entries, 0 to 8585\n",
      "Data columns (total 2 columns):\n",
      " #   Column     Non-Null Count  Dtype \n",
      "---  ------     --------------  ----- \n",
      " 0   job title  8586 non-null   object\n",
      " 1   industry   8586 non-null   object\n",
      "dtypes: object(2)\n",
      "memory usage: 134.3+ KB\n",
      "\n",
      "There are only  3890 unique entries in job titles.\n",
      "\n",
      "There are 4 Classes in the data:  ['IT' 'Marketing' 'Education' 'Accountancy']\n"
     ]
    }
   ],
   "source": [
    "df.info()\n",
    "print(\"\\nThere are only \",len(df['job title'].unique()),\"unique entries in job titles.\")\n",
    "print(\"\\nThere are 4 Classes in the data: \",df['industry'].unique())\n",
    "classes = np.array(df['industry'].unique())"
   ]
  },
  {
   "cell_type": "code",
   "execution_count": 13,
   "metadata": {},
   "outputs": [
    {
     "data": {
      "text/plain": [
       "<Figure size 720x432 with 0 Axes>"
      ]
     },
     "metadata": {},
     "output_type": "display_data"
    },
    {
     "data": {
      "image/png": "[encoded data removed]",
      "text/plain": [
       "<Figure size 432x288 with 1 Axes>"
      ]
     },
     "metadata": {},
     "output_type": "display_data"
    }
   ],
   "source": [
    "plt.figure(figsize=(10,6));\n",
    "df.groupby('industry').count().plot.bar(ylim=0);\n",
    "plt.show();"
   ]
  },
  {
   "cell_type": "code",
   "execution_count": 12,
   "metadata": {},
   "outputs": [
    {
     "data": {
      "text/plain": [
       "<AxesSubplot:xlabel='industry', ylabel='count'>"
      ]
     },
     "execution_count": 12,
     "metadata": {},
     "output_type": "execute_result"
    },
    {
     "data": {
      "image/png": "[encoded data removed]",
      "text/plain": [
       "<Figure size 432x288 with 1 Axes>"
      ]
     },
     "metadata": {},
     "output_type": "display_data"
    }
   ],
   "source": [
    "sns.set_style(\"darkgrid\")\n",
    "sns.countplot(x=\"industry\",data=df)"
   ]
  },
  {
   "cell_type": "markdown",
   "metadata": {},
   "source": [
    "# CLEANING THE DATA"
   ]
  },
  {
   "cell_type": "markdown",
   "metadata": {},
   "source": [
    "1-lowering the text \n",
    "\n",
    "2-use regular expressions \n",
    "\n",
    "3-Apply Tokenization to split the text \n",
    "\n",
    "4-apply Stemming to get the root of the word "
   ]
  },
  {
   "cell_type": "code",
   "execution_count": 14,
   "metadata": {},
   "outputs": [],
   "source": [
    "def cleanalltext(text):\n",
    "    text = text.lower()\n",
    "    text = re.sub(\"german[^\\s]+\",\"\",text)\n",
    "    text = re.sub(\"bournemouth[^\\s]+\",\"\",text)\n",
    "    text = re.sub(\"international[^\\s]+\",\"\",text)\n",
    "    text = re.sub(\"flex[^\\s]+\",\"\",text)\n",
    "    text = re.sub(\"15[^\\s]+\",\"\",text)\n",
    "    text = re.sub(\"flexible[^\\s]+\",\"\",text)\n",
    "    text = re.sub(\"numerous[^\\s]+\",\"\",text)\n",
    "    text = re.sub(\"belfast[^\\s]+\",\"\",text)\n",
    "    text = re.sub(\"on[^\\s]+\",\"\",text)\n",
    "    text = re.sub(\"in[^\\s]+\",\"\",text)\n",
    "    text = re.sub(\"up[^\\s]+\",\"\",text)\n",
    "    text = re.sub(\"45[^\\s]+\",\"\",text)\n",
    "    text = re.sub(\"west[^\\s]+\",\"\",text)\n",
    "    text = re.sub(\"london[^\\s]+\",\"\",text)\n",
    "    text = re.sub(\"part[^\\s]+\",\"\",text)\n",
    "    text = re.sub(\"must[^\\s]+\",\"\",text)\n",
    "    text = re.sub(\"2[^\\s]+\",\"\",text)\n",
    "    text = re.sub(\"1/2[^\\s]+\",\"\",text)\n",
    "    text = re.sub(\"no[^\\s]+\",\"\",text)\n",
    "    text = re.sub(\"Â[^\\s]+\",\"\",text)\n",
    "    text = re.sub(\"12[^\\s]+\",\"\",text)\n",
    "    text = text.replace(\"1st\",\"\")  \n",
    "    text = re.sub(\"leading [^\\s]+\",\"\",text)\n",
    "    text = re.sub(\"1st[^\\s]+\",\"\",text)\n",
    "    text = re.sub(\"3rd[^\\s]+\",\"\",text)\n",
    "    text = re.sub(\"2nd[^\\s]+\",\"\",text)\n",
    "    text = re.sub(\"bristol[^\\s]+\",\"\",text)\n",
    "    text = re.sub(\"healthcare[^\\s]+\",\"\",text)\n",
    "    text = re.sub(\"good[^\\s]+\",\"\",text)\n",
    "    text = re.sub(\"pool[^\\s]+\",\"\",text)\n",
    "    text = re.sub(\"6 months[^\\s]+\",\"\",text)\n",
    "    text = re.sub(\"free[^\\s]+\",\"\",text)\n",
    "    text = re.sub(\"invest[^\\s]+\",\"\",text)\n",
    "    text = text.replace(\"o365\",\"\")\n",
    "    text = text.replace(\"remote\",\"\")\n",
    "    text = text.replace(\"-\",\" \")\n",
    "    text = text.replace(\"/\",\" \")\n",
    "    text = text.replace(\"(\",\" \")\n",
    "    text = text.replace(\")\",\" \")\n",
    "    text = text.replace(\"soa04086\",\" \")\n",
    "    return text\n",
    "\n",
    "    "
   ]
  },
  {
   "cell_type": "code",
   "execution_count": 15,
   "metadata": {},
   "outputs": [],
   "source": [
    "def remove_stop_words(text):\n",
    "    sw = stopwords.words(\"english\")\n",
    "    clean_words = []\n",
    "    text = text.split()\n",
    "    for word in text:\n",
    "        if word not in sw:\n",
    "            clean_words.append(word)\n",
    "    return \" \".join(clean_words)\n"
   ]
  },
  {
   "cell_type": "code",
   "execution_count": 16,
   "metadata": {},
   "outputs": [],
   "source": [
    "def stemming(text):\n",
    "    ps = PorterStemmer()\n",
    "    text = text.split()\n",
    "    stemmed_words = []\n",
    "    for word in text :\n",
    "        stemmed_words.append(ps.stem(word))\n",
    "    return \" \".join(stemmed_words)"
   ]
  },
  {
   "cell_type": "code",
   "execution_count": 17,
   "metadata": {},
   "outputs": [],
   "source": [
    "from nltk.stem import WordNetLemmatizer\n",
    "def stemming(inp): \n",
    "    tokenizer=nltk.tokenize.WordPunctTokenizer()\n",
    "    tokens = tokenizer.tokenize(inp)\n",
    "    stemmer = SnowballStemmer(\"english\", ignore_stopwords=True)\n",
    "    stemming_words = [stemmer.stem(w) for w in tokens]\n",
    "    return(' '.join(stemming_words))"
   ]
  },
  {
   "cell_type": "code",
   "execution_count": 18,
   "metadata": {},
   "outputs": [],
   "source": [
    "def run(text):\n",
    "    text = cleanalltext(text)\n",
    "    text = remove_stop_words(text)\n",
    "    text = stemming(text)\n",
    "    return text"
   ]
  },
  {
   "cell_type": "code",
   "execution_count": 19,
   "metadata": {},
   "outputs": [],
   "source": [
    "df['job title'] = df['job title'].apply(stemming)\n"
   ]
  },
  {
   "cell_type": "code",
   "execution_count": 20,
   "metadata": {},
   "outputs": [],
   "source": [
    "df['job title'] = df['job title'].apply(run)\n"
   ]
  },
  {
   "cell_type": "code",
   "execution_count": 21,
   "metadata": {},
   "outputs": [
    {
     "data": {
      "text/html": [
       "<div>\n",
       "<style scoped>\n",
       "    .dataframe tbody tr th:only-of-type {\n",
       "        vertical-align: middle;\n",
       "    }\n",
       "\n",
       "    .dataframe tbody tr th {\n",
       "        vertical-align: top;\n",
       "    }\n",
       "\n",
       "    .dataframe thead th {\n",
       "        text-align: right;\n",
       "    }\n",
       "</style>\n",
       "<table border=\"1\" class=\"dataframe\">\n",
       "  <thead>\n",
       "    <tr style=\"text-align: right;\">\n",
       "      <th></th>\n",
       "      <th>job title</th>\n",
       "      <th>industry</th>\n",
       "    </tr>\n",
       "  </thead>\n",
       "  <tbody>\n",
       "    <tr>\n",
       "      <th>0</th>\n",
       "      <td>technic helpdesk counti build , ayr</td>\n",
       "      <td>IT</td>\n",
       "    </tr>\n",
       "    <tr>\n",
       "      <th>1</th>\n",
       "      <td>senior technic engin</td>\n",
       "      <td>IT</td>\n",
       "    </tr>\n",
       "    <tr>\n",
       "      <th>2</th>\n",
       "      <td>head servic</td>\n",
       "      <td>IT</td>\n",
       "    </tr>\n",
       "    <tr>\n",
       "      <th>3</th>\n",
       "      <td>js fr end engin</td>\n",
       "      <td>IT</td>\n",
       "    </tr>\n",
       "    <tr>\n",
       "      <th>4</th>\n",
       "      <td>network teleph c</td>\n",
       "      <td>IT</td>\n",
       "    </tr>\n",
       "  </tbody>\n",
       "</table>\n",
       "</div>"
      ],
      "text/plain": [
       "                             job title industry\n",
       "0  technic helpdesk counti build , ayr       IT\n",
       "1                 senior technic engin       IT\n",
       "2                          head servic       IT\n",
       "3                      js fr end engin       IT\n",
       "4                     network teleph c       IT"
      ]
     },
     "execution_count": 21,
     "metadata": {},
     "output_type": "execute_result"
    }
   ],
   "source": [
    "df.head()"
   ]
  },
  {
   "cell_type": "code",
   "execution_count": 44,
   "metadata": {},
   "outputs": [
    {
     "data": {
      "text/html": [
       "<div>\n",
       "<style scoped>\n",
       "    .dataframe tbody tr th:only-of-type {\n",
       "        vertical-align: middle;\n",
       "    }\n",
       "\n",
       "    .dataframe tbody tr th {\n",
       "        vertical-align: top;\n",
       "    }\n",
       "\n",
       "    .dataframe thead th {\n",
       "        text-align: right;\n",
       "    }\n",
       "</style>\n",
       "<table border=\"1\" class=\"dataframe\">\n",
       "  <thead>\n",
       "    <tr style=\"text-align: right;\">\n",
       "      <th></th>\n",
       "      <th>job title</th>\n",
       "      <th>industry</th>\n",
       "    </tr>\n",
       "  </thead>\n",
       "  <tbody>\n",
       "    <tr>\n",
       "      <th>8581</th>\n",
       "      <td>data entri clerk</td>\n",
       "      <td>Marketing</td>\n",
       "    </tr>\n",
       "    <tr>\n",
       "      <th>8582</th>\n",
       "      <td>c creator</td>\n",
       "      <td>Marketing</td>\n",
       "    </tr>\n",
       "    <tr>\n",
       "      <th>8583</th>\n",
       "      <td>sale &amp; market manag</td>\n",
       "      <td>Marketing</td>\n",
       "    </tr>\n",
       "    <tr>\n",
       "      <th>8584</th>\n",
       "      <td>market &amp; digit market c</td>\n",
       "      <td>Marketing</td>\n",
       "    </tr>\n",
       "    <tr>\n",
       "      <th>8585</th>\n",
       "      <td>creativ copywrit arab english</td>\n",
       "      <td>Marketing</td>\n",
       "    </tr>\n",
       "  </tbody>\n",
       "</table>\n",
       "</div>"
      ],
      "text/plain": [
       "                          job title   industry\n",
       "8581               data entri clerk  Marketing\n",
       "8582                      c creator  Marketing\n",
       "8583            sale & market manag  Marketing\n",
       "8584        market & digit market c  Marketing\n",
       "8585  creativ copywrit arab english  Marketing"
      ]
     },
     "execution_count": 44,
     "metadata": {},
     "output_type": "execute_result"
    }
   ],
   "source": [
    "df.tail()"
   ]
  },
  {
   "cell_type": "code",
   "execution_count": 22,
   "metadata": {},
   "outputs": [
    {
     "data": {
      "text/plain": [
       "(8586, 2)"
      ]
     },
     "execution_count": 22,
     "metadata": {},
     "output_type": "execute_result"
    }
   ],
   "source": [
    "df.shape"
   ]
  },
  {
   "cell_type": "markdown",
   "metadata": {},
   "source": [
    "# Balancing Data\n"
   ]
  },
  {
   "cell_type": "markdown",
   "metadata": {},
   "source": [
    "I will use upsampling(oversampling), as the # of point is too small to do downsampling, and imblearn’s SMOTE or Synthetic Minority Oversampling isn't preferable for text features."
   ]
  },
  {
   "cell_type": "markdown",
   "metadata": {},
   "source": [
    "perform oversampling before executing cross-validation"
   ]
  },
  {
   "cell_type": "markdown",
   "metadata": {},
   "source": [
    "# Split Data\n"
   ]
  },
  {
   "cell_type": "code",
   "execution_count": 23,
   "metadata": {},
   "outputs": [],
   "source": [
    "X_train, X_test, y_train, y_test = train_test_split(df['job title'], df['industry'], test_size=0.2, random_state=1)\n"
   ]
  },
  {
   "cell_type": "code",
   "execution_count": 24,
   "metadata": {},
   "outputs": [],
   "source": [
    "# concatenate our training data back together\n",
    "X = pd.concat([X_train, y_train], axis=1)"
   ]
  },
  {
   "cell_type": "code",
   "execution_count": 25,
   "metadata": {},
   "outputs": [],
   "source": [
    "# Separate majority and minority classes\n",
    "df_it = X[X.industry=='IT']\n",
    "df_marketing = X[X.industry=='Marketing']\n",
    "df_education = X[X.industry=='Education']\n",
    "df_accountancy = X[X.industry=='Accountancy']"
   ]
  },
  {
   "cell_type": "code",
   "execution_count": 26,
   "metadata": {},
   "outputs": [],
   "source": [
    "from sklearn.utils import resample\n",
    "# Upsample minority classes\n",
    "df_marketing_upsampled = resample(df_marketing, \n",
    "                                 replace=True,     # sample with replacement\n",
    "                                 n_samples=len(df_it),    # to match majority class\n",
    "                                 random_state=123) # reproducible results\n",
    "\n",
    "df_education_upsampled = resample(df_education, \n",
    "                                 replace=True,     # sample with replacement\n",
    "                                 n_samples=len(df_it),    # to match majority class\n",
    "                                 random_state=27) # reproducible results\n",
    "df_accountancy_upsampled = resample(df_accountancy, \n",
    "                                 replace=True,     # sample with replacement\n",
    "                                 n_samples=len(df_it),    # to match majority class\n",
    "                                 random_state=56) # reproducible results\n",
    "# Combine majority class with upsampled minority class\n",
    "df_upsampled = pd.concat([df_it, df_marketing_upsampled,df_education_upsampled,df_accountancy_upsampled])\n",
    " \n"
   ]
  },
  {
   "cell_type": "code",
   "execution_count": 27,
   "metadata": {},
   "outputs": [
    {
     "data": {
      "text/plain": [
       "IT             3797\n",
       "Marketing      3797\n",
       "Education      3797\n",
       "Accountancy    3797\n",
       "Name: industry, dtype: int64"
      ]
     },
     "execution_count": 27,
     "metadata": {},
     "output_type": "execute_result"
    }
   ],
   "source": [
    "# Display new class counts\n",
    "df_upsampled.industry.value_counts()"
   ]
  },
  {
   "cell_type": "code",
   "execution_count": 28,
   "metadata": {},
   "outputs": [
    {
     "data": {
      "text/plain": [
       "IT             4746\n",
       "Marketing      2031\n",
       "Education      1435\n",
       "Accountancy     374\n",
       "Name: industry, dtype: int64"
      ]
     },
     "execution_count": 28,
     "metadata": {},
     "output_type": "execute_result"
    }
   ],
   "source": [
    "df.industry.value_counts()\n"
   ]
  },
  {
   "cell_type": "markdown",
   "metadata": {},
   "source": [
    "# Text Vectorization\n"
   ]
  },
  {
   "cell_type": "code",
   "execution_count": 29,
   "metadata": {},
   "outputs": [],
   "source": [
    "# Vectorize the Data using tfidfVectorizer() {use appropriate parameters}\n",
    "from sklearn.feature_extraction.text import TfidfVectorizer\n",
    "vectorizer = TfidfVectorizer(max_features=1000)\n",
    "vectorizer.fit(df_upsampled['job title'])\n",
    "x_train = vectorizer.transform(df_upsampled['job title'])\n",
    "x_test = vectorizer.transform(X_test)\n",
    "y_train = df_upsampled['industry']"
   ]
  },
  {
   "cell_type": "markdown",
   "metadata": {},
   "source": [
    "# Modeling\n"
   ]
  },
  {
   "cell_type": "markdown",
   "metadata": {},
   "source": [
    "RandomForestClassifier provides higher accuracy through cross validation. Random forest classifier will handle the missing values and maintain the accuracy of a large proportion of data. If there are more trees, it won't allow over-fitting trees in the model.\n",
    "it gives best result over other classification algorithms"
   ]
  },
  {
   "cell_type": "code",
   "execution_count": null,
   "metadata": {},
   "outputs": [],
   "source": [
    "# train RandomForestModel on the vectorized train data and score accuracy on test data\n",
    "from  sklearn.ensemble import RandomForestClassifier\n",
    "from sklearn.metrics import confusion_matrix, accuracy_score"
   ]
  },
  {
   "cell_type": "code",
   "execution_count": 33,
   "metadata": {},
   "outputs": [],
   "source": [
    "classifier = RandomForestClassifier(n_estimators=1000, random_state=1)  \n",
    "classifier.fit(x_train.toarray(), y_train)\n",
    "prediction = classifier.predict(x_test.toarray())"
   ]
  },
  {
   "cell_type": "markdown",
   "metadata": {},
   "source": [
    "# Model Evaluation\n"
   ]
  },
  {
   "cell_type": "code",
   "execution_count": 34,
   "metadata": {},
   "outputs": [
    {
     "name": "stdout",
     "output_type": "stream",
     "text": [
      "[[ 65   5   6   2]\n",
      " [ 15 224   8  13]\n",
      " [ 32   2 889  26]\n",
      " [ 21  17  31 362]]\n",
      "              precision    recall  f1-score   support\n",
      "\n",
      " Accountancy       0.49      0.83      0.62        78\n",
      "   Education       0.90      0.86      0.88       260\n",
      "          IT       0.95      0.94      0.94       949\n",
      "   Marketing       0.90      0.84      0.87       431\n",
      "\n",
      "    accuracy                           0.90      1718\n",
      "   macro avg       0.81      0.87      0.83      1718\n",
      "weighted avg       0.91      0.90      0.90      1718\n",
      "\n",
      "0.8963911525029103\n"
     ]
    }
   ],
   "source": [
    "from sklearn.metrics import classification_report, confusion_matrix, accuracy_score\n",
    "\n",
    "print(confusion_matrix(y_test,prediction))  \n",
    "print(classification_report(y_test,prediction))  \n",
    "print(accuracy_score(y_test, prediction))"
   ]
  },
  {
   "cell_type": "markdown",
   "metadata": {},
   "source": [
    "# Saving model and vecorizer for later use by flask\n"
   ]
  },
  {
   "cell_type": "code",
   "execution_count": 35,
   "metadata": {},
   "outputs": [],
   "source": [
    "import pickle\n",
    "pickle.dump(classifier, open('Classifier.pkl', 'wb'))\n",
    "pickle.dump(vectorizer, open('Vectorizer.pkl', 'wb'))"
   ]
  },
  {
   "cell_type": "code",
   "execution_count": null,
   "metadata": {},
   "outputs": [],
   "source": []
  }
 ],
 "metadata": {
  "kernelspec": {
   "display_name": "Python 3",
   "language": "python",
   "name": "python3"
  },
  "language_info": {
   "codemirror_mode": {
    "name": "ipython",
    "version": 3
   },
   "file_extension": ".py",
   "mimetype": "text/x-python",
   "name": "python",
   "nbconvert_exporter": "python",
   "pygments_lexer": "ipython3",
   "version": "3.8.5"
  }
 },
 "nbformat": 4,
 "nbformat_minor": 4
}
