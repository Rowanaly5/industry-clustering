{
 "cells": [
  {
   "cell_type": "code",
   "execution_count": 1,
   "metadata": {},
   "outputs": [
    {
     "name": "stdout",
     "output_type": "stream",
     "text": [
      " * Serving Flask app \"__main__\" (lazy loading)\n",
      " * Environment: production\n",
      "   WARNING: This is a development server. Do not use it in a production deployment.\n",
      "   Use a production WSGI server instead.\n",
      " * Debug mode: on\n"
     ]
    },
    {
     "name": "stderr",
     "output_type": "stream",
     "text": [
      " * Running on http://127.0.0.1:5000/ (Press CTRL+C to quit)\n"
     ]
    }
   ],
   "source": [
    "from flask import Flask\n",
    "from flask_restful import reqparse, abort, Api, Resource\n",
    "import pickle\n",
    "import numpy as np\n",
    "from  sklearn.ensemble import RandomForestClassifier\n",
    "from sklearn.feature_extraction.text import TfidfVectorizer\n",
    "\n",
    "#from model import NLPModel\n",
    "\n",
    "app = Flask(__name__)\n",
    "api = Api(app)\n",
    "\n",
    "#model = NLPModel()\n",
    "\n",
    "clf_path = r'Classifier.pkl'\n",
    "with open(clf_path, 'rb') as f:\n",
    "    clf = pickle.load(f)\n",
    "\n",
    "vec_path = r'Vectorizer.pkl'\n",
    "with open(vec_path, 'rb') as f:\n",
    "    vectorizer = pickle.load(f)\n",
    "\n",
    "# argument parsing\n",
    "parser = reqparse.RequestParser()\n",
    "parser.add_argument('query')\n",
    "\n",
    "\n",
    "class PredictSentiment(Resource):\n",
    "    def get(self):\n",
    "        # use parser and find the user's query\n",
    "        args = parser.parse_args()\n",
    "        user_query = args['query']\n",
    "\n",
    "        # vectorize the user's query and make a prediction\n",
    "        uq_vectorized = vectorizer.transform(np.array([user_query]))\n",
    "        prediction = clf.predict(uq_vectorized)\n",
    "        pred_proba = clf.predict_proba(uq_vectorized)\n",
    "\n",
    "        # Output either 'Negative' or 'Positive' along with the score\n",
    "        pred_text = prediction\n",
    "\t\t#if prediction == 0:\n",
    "        #    pred_text = 'Negative'\n",
    "        #else:\n",
    "        #    pred_text = 'Positive'\n",
    "            \n",
    "        # round the predict proba value and set to new variable\n",
    "        confidence = round(pred_proba[0], 3)\n",
    "\n",
    "        # create JSON object\n",
    "        output = {'prediction': pred_text, 'confidence': confidence}\n",
    "        \n",
    "        return output\n",
    "\n",
    "\n",
    "# Setup the Api resource routing here\n",
    "# Route the URL to the resource\n",
    "api.add_resource(PredictSentiment, '/')\n",
    "\n",
    "\n",
    "if __name__ == '__main__':\n",
    "    app.run(debug=True, use_reloader=False)\n",
    "\n"
   ]
  },
  {
   "cell_type": "code",
   "execution_count": null,
   "metadata": {},
   "outputs": [],
   "source": []
  }
 ],
 "metadata": {
  "kernelspec": {
   "display_name": "Python 3",
   "language": "python",
   "name": "python3"
  },
  "language_info": {
   "codemirror_mode": {
    "name": "ipython",
    "version": 3
   },
   "file_extension": ".py",
   "mimetype": "text/x-python",
   "name": "python",
   "nbconvert_exporter": "python",
   "pygments_lexer": "ipython3",
   "version": "3.8.5"
  }
 },
 "nbformat": 4,
 "nbformat_minor": 4
}
